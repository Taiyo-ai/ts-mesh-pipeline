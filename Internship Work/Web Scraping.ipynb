{
 "cells": [
  {
   "cell_type": "code",
   "execution_count": 59,
   "id": "d0ad69eb",
   "metadata": {},
   "outputs": [],
   "source": [
    "from selenium import webdriver\n",
    "import os\n",
    "import time\n",
    "from selenium.webdriver.support.ui import Select\n",
    "from selenium.webdriver.common.by import By"
   ]
  },
  {
   "cell_type": "code",
   "execution_count": 60,
   "id": "f9b32ff0",
   "metadata": {},
   "outputs": [
    {
     "name": "stderr",
     "output_type": "stream",
     "text": [
      "\n",
      "\n",
      "====== WebDriver manager ======\n",
      "Current google-chrome version is 99.0.4844\n",
      "Get LATEST chromedriver version for 99.0.4844 google-chrome\n",
      "Driver [C:\\Users\\prashant pathak\\.wdm\\drivers\\chromedriver\\win32\\99.0.4844.51\\chromedriver.exe] found in cache\n"
     ]
    }
   ],
   "source": [
    "from selenium import webdriver\n",
    "from webdriver_manager.chrome import ChromeDriverManager\n",
    "\n",
    "driver = webdriver.Chrome(ChromeDriverManager().install())"
   ]
  },
  {
   "cell_type": "code",
   "execution_count": 61,
   "id": "1c2aa15e",
   "metadata": {},
   "outputs": [],
   "source": [
    "url = 'https://www.bis.org/statistics/full_data_sets.htm'\n",
    "def url_fetcher(url):\n",
    "        driver.get(url)\n",
    "        driver.implicitly_wait(5)\n",
    "        a = driver.find_elements_by_xpath(\"/html/body/div/div[1]/div[3]/div/div[4]/div/div/div[2]/div/ul/li[5]/a\")\n",
    "        a[0].click()"
   ]
  },
  {
   "cell_type": "code",
   "execution_count": 62,
   "id": "b0762b72",
   "metadata": {},
   "outputs": [
    {
     "name": "stdout",
     "output_type": "stream",
     "text": [
      "https://www.bis.org/statistics/full_data_sets.htm\n",
      "SUCCESSFUL\n"
     ]
    }
   ],
   "source": [
    "print(url)\n",
    "url_fetcher(url)\n",
    "print(\"SUCCESSFUL\")"
   ]
  },
  {
   "cell_type": "code",
   "execution_count": null,
   "id": "d3c4797b",
   "metadata": {},
   "outputs": [],
   "source": []
  }
 ],
 "metadata": {
  "kernelspec": {
   "display_name": "Python 3",
   "language": "python",
   "name": "python3"
  },
  "language_info": {
   "codemirror_mode": {
    "name": "ipython",
    "version": 3
   },
   "file_extension": ".py",
   "mimetype": "text/x-python",
   "name": "python",
   "nbconvert_exporter": "python",
   "pygments_lexer": "ipython3",
   "version": "3.8.5"
  }
 },
 "nbformat": 4,
 "nbformat_minor": 5
}
