{
 "cells": [
  {
   "cell_type": "code",
   "execution_count": null,
   "id": "0910ed85",
   "metadata": {},
   "outputs": [],
   "source": [
    "from bs4 import BeautifulSoup\n",
    "import requests \n",
    "import pandas as pd"
   ]
  },
  {
   "cell_type": "code",
   "execution_count": null,
   "id": "d25cd1d5",
   "metadata": {},
   "outputs": [],
   "source": [
    "req = requests.get(\"https://ieg.worldbankgroup.org/ieg-search?search_api_fulltext=%22tenders%22&field_topic=All&content_type_1=&field_sub_category=All&field_organization_tags=All&type_2_op=not&type_2%5B%5D=homepage_spotlight_feature&sort_by=search_api_relevance&sort_order=DESC\")\n",
    "print(req)"
   ]
  },
  {
   "cell_type": "code",
   "execution_count": null,
   "id": "d2b7ce15",
   "metadata": {},
   "outputs": [],
   "source": [
    "soup = BeautifulSoup(req.content)"
   ]
  },
  {
   "cell_type": "code",
   "execution_count": null,
   "id": "95a5e8d0",
   "metadata": {},
   "outputs": [],
   "source": [
    "headings = []\n",
    "for h in soup.find_all('h3',class_=\"Content Type : Reports title\"):\n",
    "    headings.append(h.text)\n",
    "headings"
   ]
  },
  {
   "cell_type": "code",
   "execution_count": null,
   "id": "3d7a84c6",
   "metadata": {},
   "outputs": [],
   "source": [
    "locations = [v.split('-')[0].strip() for v in headings]\n",
    "locations"
   ]
  },
  {
   "cell_type": "code",
   "execution_count": null,
   "id": "27c42ed2",
   "metadata": {},
   "outputs": [],
   "source": [
    "content = [c.split('-')[1].strip() for c in headings]\n",
    "content"
   ]
  },
  {
   "cell_type": "code",
   "execution_count": null,
   "id": "91ad5d6b",
   "metadata": {},
   "outputs": [],
   "source": []
  },
  {
   "cell_type": "code",
   "execution_count": 49,
   "id": "06ea8e3e",
   "metadata": {},
   "outputs": [],
   "source": [
    "import selenium\n",
    "import pandas as pd\n",
    "from selenium import webdriver\n",
    "import warnings\n",
    "warnings.filterwarnings(\"ignore\")\n",
    "import time"
   ]
  },
  {
   "cell_type": "code",
   "execution_count": 50,
   "id": "64829863",
   "metadata": {},
   "outputs": [],
   "source": [
    "service = webdriver.ChromeService(executable_path = r'C:\\Users\\anura\\Desktop\\Web Scrapping\\chromedriver-win64\\chromedriver.exe')\n",
    "driver = webdriver.Chrome(service=service)"
   ]
  },
  {
   "cell_type": "code",
   "execution_count": 51,
   "id": "7ebbb968",
   "metadata": {},
   "outputs": [],
   "source": [
    "driver.get('https://ieg.worldbankgroup.org/data')"
   ]
  },
  {
   "cell_type": "code",
   "execution_count": 53,
   "id": "2b1356eb",
   "metadata": {},
   "outputs": [],
   "source": [
    "search_field_designation = driver.find_element(by='xpath',value=\"/html/body/div[1]/div/section/div/div/section[1]/div/form/div/div[1]/div[1]/input\")\n",
    "search_field_designation.send_keys('tenders')"
   ]
  },
  {
   "cell_type": "code",
   "execution_count": 54,
   "id": "86e1faf1",
   "metadata": {},
   "outputs": [],
   "source": [
    "search_button = driver.find_element(by='xpath',value=\"/html/body/div[1]/div/section/div/div/section[1]/div/form/div/div[2]/button\")\n",
    "search_button.click()"
   ]
  },
  {
   "cell_type": "code",
   "execution_count": 55,
   "id": "5423c9fa",
   "metadata": {},
   "outputs": [
    {
     "name": "stdout",
     "output_type": "stream",
     "text": [
      "Headings: ['Mozambique - Beira Transport Corridor, Maputo Corridor Revitalization Technical Assistance, and Road and Coastal Shipping Projects', 'Pakistan - Hill Farming Technical Development Project', 'Senegal - Second Education Project', 'Romania - Danube - Black Sea Canal Project', 'Brazil - Secondary and Feeder Roads Project', 'Egypt - Urban Development Project', 'Burma - Tin and Tungsten Expansion Project', 'Egypt - Cotton Ginning Rehabilitation Project', 'Cyprus - First and Second Highway Projects', 'Zimbabwe - Family Health Project']\n",
      "Text before hyphen: ['Mozambique', 'Pakistan', 'Senegal', 'Brazil', 'Egypt', 'Burma', 'Egypt', 'Cyprus', 'Zimbabwe']\n",
      "Text after hyphen: ['Beira Transport Corridor, Maputo Corridor Revitalization Technical Assistance, and Road and Coastal Shipping Projects', 'Hill Farming Technical Development Project', 'Second Education Project', 'Secondary and Feeder Roads Project', 'Urban Development Project', 'Tin and Tungsten Expansion Project', 'Cotton Ginning Rehabilitation Project', 'First and Second Highway Projects', 'Family Health Project']\n"
     ]
    }
   ],
   "source": [
    "headings = []\n",
    "text_before_hyphen = []\n",
    "text_after_hyphen = []\n",
    "\n",
    "h = driver.find_elements(by='xpath', value=\"//h3[@class='Content Type : Reports title']\")\n",
    "for j in h:\n",
    "    heading_text = j.text\n",
    "    headings.append(heading_text)\n",
    "    parts = heading_text.split(' - ')\n",
    "    if len(parts) == 2:\n",
    "        text_before_hyphen.append(parts[0])\n",
    "        text_after_hyphen.append(parts[1])\n",
    "print(\"Headings:\", headings)\n",
    "print(\"Text before hyphen:\", text_before_hyphen)\n",
    "print(\"Text after hyphen:\", text_after_hyphen)\n"
   ]
  },
  {
   "cell_type": "code",
   "execution_count": null,
   "id": "22a24e93",
   "metadata": {},
   "outputs": [],
   "source": [
    "# df_dry = pd.DataFrame({\n",
    "#     'Tenders': text_after_hyphen,\n",
    "#     'Location' : text_before_hyphen\n",
    "# })\n",
    "# df_dry"
   ]
  },
  {
   "cell_type": "markdown",
   "id": "b6e18009",
   "metadata": {},
   "source": [
    "Page 2"
   ]
  },
  {
   "cell_type": "code",
   "execution_count": 56,
   "id": "d7c8c7e0",
   "metadata": {},
   "outputs": [],
   "source": [
    "search_button = driver.find_element(by='xpath',value=\"/html/body/div[1]/div/div[4]/div/section/div/div/div/nav/ul/li[2]/a\")\n",
    "search_button.click()"
   ]
  },
  {
   "cell_type": "code",
   "execution_count": 57,
   "id": "937d616f",
   "metadata": {},
   "outputs": [
    {
     "name": "stdout",
     "output_type": "stream",
     "text": [
      "Headings: ['Jordan - Water Supply and Sewerage Project', 'Bangladesh - Second and Third Dhaka and Second Chittagong Water Supply Projects', 'India - External Sector and Investment Regime Liberalization Project', 'Egypt - Industry Projects', 'India - Jharia Coking Coal Project', 'Tunisia - Second Electrical and Mechanical Industries Project', 'China - Fertilizer Rationalization Project', 'Dominica - Structural Adjustment Credit Project', 'Ethiopia - Second Coffee Processing and Marketing Project', 'Honduras - First and Second Structural Adjustment Loans and Structural Adjustment Credit Projects']\n",
      "Text before hyphen: ['Jordan', 'Bangladesh', 'India', 'Egypt', 'India', 'Tunisia', 'China', 'Dominica', 'Ethiopia', 'Honduras']\n",
      "Text after hyphen: ['Water Supply and Sewerage Project', 'Second and Third Dhaka and Second Chittagong Water Supply Projects', 'External Sector and Investment Regime Liberalization Project', 'Industry Projects', 'Jharia Coking Coal Project', 'Second Electrical and Mechanical Industries Project', 'Fertilizer Rationalization Project', 'Structural Adjustment Credit Project', 'Second Coffee Processing and Marketing Project', 'First and Second Structural Adjustment Loans and Structural Adjustment Credit Projects']\n"
     ]
    }
   ],
   "source": [
    "headings1 = []\n",
    "text_before_hyphen1 = []\n",
    "text_after_hyphen1 = []\n",
    "\n",
    "h = driver.find_elements(by='xpath', value=\"//h3[@class='Content Type : Reports title']\")\n",
    "for j in h:\n",
    "    heading_text = j.text\n",
    "    headings1.append(heading_text)\n",
    "    parts = heading_text.split(' - ')\n",
    "    if len(parts) == 2:\n",
    "        text_before_hyphen1.append(parts[0])\n",
    "        text_after_hyphen1.append(parts[1])\n",
    "print(\"Headings:\", headings1)\n",
    "print(\"Text before hyphen:\", text_before_hyphen1)\n",
    "print(\"Text after hyphen:\", text_after_hyphen1)\n"
   ]
  },
  {
   "cell_type": "markdown",
   "id": "be8b17c2",
   "metadata": {},
   "source": [
    "Page 3"
   ]
  },
  {
   "cell_type": "code",
   "execution_count": 58,
   "id": "8fc42e88",
   "metadata": {},
   "outputs": [],
   "source": [
    "search_button = driver.find_element(by='xpath',value=\"/html/body/div[1]/div/div[4]/div/section/div/div/div/nav/ul/li[5]/a\")\n",
    "search_button.click()"
   ]
  },
  {
   "cell_type": "code",
   "execution_count": 59,
   "id": "a4fd92aa",
   "metadata": {},
   "outputs": [
    {
     "name": "stdout",
     "output_type": "stream",
     "text": [
      "Headings: ['Argentina - Yacyreta Hydroelectric and Electric Power Sector Projects', 'China - Shanghai Machine Tool Project', 'Tunisia - Health and Population Project', 'Rwanda - Country Assistance Strategy progress report (CPSCR) and completion report (CASCR) review for the period FY09-12 : IEG review', 'Indonesia - Country partnership strategy for the period FY09-FY12 : IEG CPSCR review']\n",
      "Text before hyphen: ['Argentina', 'China', 'Tunisia', 'Rwanda', 'Indonesia']\n",
      "Text after hyphen: ['Yacyreta Hydroelectric and Electric Power Sector Projects', 'Shanghai Machine Tool Project', 'Health and Population Project', 'Country Assistance Strategy progress report (CPSCR) and completion report (CASCR) review for the period FY09-12 : IEG review', 'Country partnership strategy for the period FY09-FY12 : IEG CPSCR review']\n"
     ]
    }
   ],
   "source": [
    "headings2 = []\n",
    "text_before_hyphen2 = []\n",
    "text_after_hyphen2 = []\n",
    "\n",
    "h = driver.find_elements(by='xpath', value=\"//h3[@class='Content Type : Reports title']\")\n",
    "for j in h:\n",
    "    heading_text = j.text\n",
    "    headings2.append(heading_text)\n",
    "    parts = heading_text.split(' - ')\n",
    "    if len(parts) == 2:\n",
    "        text_before_hyphen2.append(parts[0])\n",
    "        text_after_hyphen2.append(parts[1])\n",
    "print(\"Headings:\", headings2)\n",
    "print(\"Text before hyphen:\", text_before_hyphen2)\n",
    "print(\"Text after hyphen:\", text_after_hyphen2)"
   ]
  },
  {
   "cell_type": "markdown",
   "id": "1df969e3",
   "metadata": {},
   "source": [
    "Concat all the lists "
   ]
  },
  {
   "cell_type": "code",
   "execution_count": 70,
   "id": "0fa34772",
   "metadata": {},
   "outputs": [
    {
     "name": "stdout",
     "output_type": "stream",
     "text": [
      "25\n",
      "24\n",
      "24\n"
     ]
    }
   ],
   "source": [
    "l = headings + headings1 + headings2\n",
    "loc = text_before_hyphen + text_before_hyphen1 + text_before_hyphen2\n",
    "he = text_after_hyphen + text_after_hyphen1 + text_after_hyphen2\n",
    "\n",
    "print(len(l))\n",
    "print(len(loc))\n",
    "print(len(he))"
   ]
  },
  {
   "cell_type": "code",
   "execution_count": 69,
   "id": "cf49b047",
   "metadata": {},
   "outputs": [
    {
     "data": {
      "text/html": [
       "<div>\n",
       "<style scoped>\n",
       "    .dataframe tbody tr th:only-of-type {\n",
       "        vertical-align: middle;\n",
       "    }\n",
       "\n",
       "    .dataframe tbody tr th {\n",
       "        vertical-align: top;\n",
       "    }\n",
       "\n",
       "    .dataframe thead th {\n",
       "        text-align: right;\n",
       "    }\n",
       "</style>\n",
       "<table border=\"1\" class=\"dataframe\">\n",
       "  <thead>\n",
       "    <tr style=\"text-align: right;\">\n",
       "      <th></th>\n",
       "      <th>Tenders</th>\n",
       "      <th>Location</th>\n",
       "    </tr>\n",
       "  </thead>\n",
       "  <tbody>\n",
       "    <tr>\n",
       "      <th>0</th>\n",
       "      <td>Beira Transport Corridor, Maputo Corridor Revi...</td>\n",
       "      <td>Mozambique</td>\n",
       "    </tr>\n",
       "    <tr>\n",
       "      <th>1</th>\n",
       "      <td>Hill Farming Technical Development Project</td>\n",
       "      <td>Pakistan</td>\n",
       "    </tr>\n",
       "    <tr>\n",
       "      <th>2</th>\n",
       "      <td>Second Education Project</td>\n",
       "      <td>Senegal</td>\n",
       "    </tr>\n",
       "    <tr>\n",
       "      <th>3</th>\n",
       "      <td>Secondary and Feeder Roads Project</td>\n",
       "      <td>Brazil</td>\n",
       "    </tr>\n",
       "    <tr>\n",
       "      <th>4</th>\n",
       "      <td>Urban Development Project</td>\n",
       "      <td>Egypt</td>\n",
       "    </tr>\n",
       "    <tr>\n",
       "      <th>5</th>\n",
       "      <td>Tin and Tungsten Expansion Project</td>\n",
       "      <td>Burma</td>\n",
       "    </tr>\n",
       "    <tr>\n",
       "      <th>6</th>\n",
       "      <td>Cotton Ginning Rehabilitation Project</td>\n",
       "      <td>Egypt</td>\n",
       "    </tr>\n",
       "    <tr>\n",
       "      <th>7</th>\n",
       "      <td>First and Second Highway Projects</td>\n",
       "      <td>Cyprus</td>\n",
       "    </tr>\n",
       "    <tr>\n",
       "      <th>8</th>\n",
       "      <td>Family Health Project</td>\n",
       "      <td>Zimbabwe</td>\n",
       "    </tr>\n",
       "    <tr>\n",
       "      <th>9</th>\n",
       "      <td>Water Supply and Sewerage Project</td>\n",
       "      <td>Jordan</td>\n",
       "    </tr>\n",
       "    <tr>\n",
       "      <th>10</th>\n",
       "      <td>Second and Third Dhaka and Second Chittagong W...</td>\n",
       "      <td>Bangladesh</td>\n",
       "    </tr>\n",
       "    <tr>\n",
       "      <th>11</th>\n",
       "      <td>External Sector and Investment Regime Liberali...</td>\n",
       "      <td>India</td>\n",
       "    </tr>\n",
       "    <tr>\n",
       "      <th>12</th>\n",
       "      <td>Industry Projects</td>\n",
       "      <td>Egypt</td>\n",
       "    </tr>\n",
       "    <tr>\n",
       "      <th>13</th>\n",
       "      <td>Jharia Coking Coal Project</td>\n",
       "      <td>India</td>\n",
       "    </tr>\n",
       "    <tr>\n",
       "      <th>14</th>\n",
       "      <td>Second Electrical and Mechanical Industries Pr...</td>\n",
       "      <td>Tunisia</td>\n",
       "    </tr>\n",
       "    <tr>\n",
       "      <th>15</th>\n",
       "      <td>Fertilizer Rationalization Project</td>\n",
       "      <td>China</td>\n",
       "    </tr>\n",
       "    <tr>\n",
       "      <th>16</th>\n",
       "      <td>Structural Adjustment Credit Project</td>\n",
       "      <td>Dominica</td>\n",
       "    </tr>\n",
       "    <tr>\n",
       "      <th>17</th>\n",
       "      <td>Second Coffee Processing and Marketing Project</td>\n",
       "      <td>Ethiopia</td>\n",
       "    </tr>\n",
       "    <tr>\n",
       "      <th>18</th>\n",
       "      <td>First and Second Structural Adjustment Loans a...</td>\n",
       "      <td>Honduras</td>\n",
       "    </tr>\n",
       "    <tr>\n",
       "      <th>19</th>\n",
       "      <td>Yacyreta Hydroelectric and Electric Power Sect...</td>\n",
       "      <td>Argentina</td>\n",
       "    </tr>\n",
       "    <tr>\n",
       "      <th>20</th>\n",
       "      <td>Shanghai Machine Tool Project</td>\n",
       "      <td>China</td>\n",
       "    </tr>\n",
       "    <tr>\n",
       "      <th>21</th>\n",
       "      <td>Health and Population Project</td>\n",
       "      <td>Tunisia</td>\n",
       "    </tr>\n",
       "    <tr>\n",
       "      <th>22</th>\n",
       "      <td>Country Assistance Strategy progress report (C...</td>\n",
       "      <td>Rwanda</td>\n",
       "    </tr>\n",
       "    <tr>\n",
       "      <th>23</th>\n",
       "      <td>Country partnership strategy for the period FY...</td>\n",
       "      <td>Indonesia</td>\n",
       "    </tr>\n",
       "  </tbody>\n",
       "</table>\n",
       "</div>"
      ],
      "text/plain": [
       "                                              Tenders    Location\n",
       "0   Beira Transport Corridor, Maputo Corridor Revi...  Mozambique\n",
       "1          Hill Farming Technical Development Project    Pakistan\n",
       "2                            Second Education Project     Senegal\n",
       "3                  Secondary and Feeder Roads Project      Brazil\n",
       "4                           Urban Development Project       Egypt\n",
       "5                  Tin and Tungsten Expansion Project       Burma\n",
       "6               Cotton Ginning Rehabilitation Project       Egypt\n",
       "7                   First and Second Highway Projects      Cyprus\n",
       "8                               Family Health Project    Zimbabwe\n",
       "9                   Water Supply and Sewerage Project      Jordan\n",
       "10  Second and Third Dhaka and Second Chittagong W...  Bangladesh\n",
       "11  External Sector and Investment Regime Liberali...       India\n",
       "12                                  Industry Projects       Egypt\n",
       "13                         Jharia Coking Coal Project       India\n",
       "14  Second Electrical and Mechanical Industries Pr...     Tunisia\n",
       "15                 Fertilizer Rationalization Project       China\n",
       "16               Structural Adjustment Credit Project    Dominica\n",
       "17     Second Coffee Processing and Marketing Project    Ethiopia\n",
       "18  First and Second Structural Adjustment Loans a...    Honduras\n",
       "19  Yacyreta Hydroelectric and Electric Power Sect...   Argentina\n",
       "20                      Shanghai Machine Tool Project       China\n",
       "21                      Health and Population Project     Tunisia\n",
       "22  Country Assistance Strategy progress report (C...      Rwanda\n",
       "23  Country partnership strategy for the period FY...   Indonesia"
      ]
     },
     "execution_count": 69,
     "metadata": {},
     "output_type": "execute_result"
    }
   ],
   "source": [
    "#Df for Tenders list for worldbank \n",
    "df = pd.DataFrame({\n",
    "    'Tenders' : he,\n",
    "    'Location' : loc\n",
    "})\n",
    "df"
   ]
  },
  {
   "cell_type": "code",
   "execution_count": 92,
   "id": "40e1ca9b",
   "metadata": {},
   "outputs": [],
   "source": [
    "df.to_csv('world_bank.csv')"
   ]
  },
  {
   "cell_type": "code",
   "execution_count": null,
   "id": "433c1b6b",
   "metadata": {},
   "outputs": [],
   "source": []
  },
  {
   "cell_type": "markdown",
   "id": "c39e4b57",
   "metadata": {},
   "source": [
    "LINK 2"
   ]
  },
  {
   "cell_type": "code",
   "execution_count": 74,
   "id": "aca43569",
   "metadata": {},
   "outputs": [],
   "source": [
    "service = webdriver.ChromeService(executable_path = r'C:\\Users\\anura\\Desktop\\Web Scrapping\\chromedriver-win64\\chromedriver.exe')\n",
    "driver = webdriver.Chrome(service=service)"
   ]
  },
  {
   "cell_type": "code",
   "execution_count": 77,
   "id": "f203d1d3",
   "metadata": {},
   "outputs": [],
   "source": [
    "driver.get('http://en.chinabidding.mofcom.gov.cn/channel/EnSearchList.shtml?provinceCodeShow=&capitalSourceCodeShow=&keyword=tenders&tenders=1&industry=')"
   ]
  },
  {
   "cell_type": "code",
   "execution_count": 78,
   "id": "666837f0",
   "metadata": {},
   "outputs": [
    {
     "data": {
      "text/plain": [
       "['Procurement of 1200-204GB2020070/03 Tenders invited for laboratory facilities and equipment of tropical crops and southern breeding(1)',\n",
       " 'Procurement of 1200-204GB2020070/02 Tenders invited for laboratory facilities and equipment of tropical crops and southern breeding(1)',\n",
       " 'Procurement of 1200-204GB2020070/01 Tenders invited for laboratory facilities and equipment of tropical crops and southern breeding(1)',\n",
       " 'Procurement of 0826-204201127002 Tenders invited for signalling system for Phase I of Shaoxing Urban Rail Transit Line 2(1)',\n",
       " 'Procurement of 2379-204Y19240ZBP Three Tenders for Reconstruction and Expansion Project of Surface Water Plant (Centrifugal Pump) of Hongxing Reservoir in Suihua.(2)',\n",
       " 'Procurement of 0809-2040GZI14033/03 Precise dew point instrument procurement project of the Fifth Institute of electronics, Ministry of industry and information technology(1)New TendersTime：2020-04-29',\n",
       " 'Procurement of 1700-1940JJBH1145/04 Integrated chlor-alkali and hydrogen peroxide transmitter device procurement tenders(1)',\n",
       " 'Procurement of 1700-1940JJBH1145/03 Integrated chlor-alkali and hydrogen peroxide transmitter device procurement tenders(1)',\n",
       " 'Procurement of 1700-1940JJBH1145/02 Integrated chlor-alkali and hydrogen peroxide transmitter device procurement tenders(1)',\n",
       " 'Procurement of 1700-1940JJBH1145/01 Integrated chlor-alkali and hydrogen peroxide transmitter device procurement tenders(1)']"
      ]
     },
     "execution_count": 78,
     "metadata": {},
     "output_type": "execute_result"
    }
   ],
   "source": [
    "tenders_headings = []\n",
    "head = driver.find_elements(by='xpath',value=\"//h1[@class='fl w645']\")\n",
    "for i in head:\n",
    "    heading_text_1 = i.text\n",
    "    tenders_headings.append(heading_text_1)\n",
    "tenders_headings"
   ]
  },
  {
   "cell_type": "code",
   "execution_count": 79,
   "id": "44aa42a0",
   "metadata": {},
   "outputs": [
    {
     "data": {
      "text/plain": [
       "['Industry:Health Region:ChinaHainansource:Currency',\n",
       " 'Industry:Health Region:ChinaHainansource:Currency',\n",
       " 'Industry:Health Region:ChinaHainansource:Currency',\n",
       " 'Industry:Railway TransportRegion:ChinaZhejiangsource:Currency',\n",
       " 'Industry:Management of Public Facilities Region:ChinaHeilongjiangsource:Currency',\n",
       " 'Industry:Research and Experimental DevelopmentRegion:ChinaGuangdongsource:Currency',\n",
       " 'Industry:Manufacture of Raw Chemical Materials and Chemical ProductsRegion:ChinaTianjinsource:Currency',\n",
       " 'Industry:Manufacture of Raw Chemical Materials and Chemical ProductsRegion:ChinaTianjinsource:Currency',\n",
       " 'Industry:Manufacture of Raw Chemical Materials and Chemical ProductsRegion:ChinaTianjinsource:Currency',\n",
       " 'Industry:Manufacture of Raw Chemical Materials and Chemical ProductsRegion:ChinaTianjinsource:Currency']"
      ]
     },
     "execution_count": 79,
     "metadata": {},
     "output_type": "execute_result"
    }
   ],
   "source": [
    "details = []\n",
    "d = driver.find_elements(by='xpath',value='//div[@class=\"property mt10\"]')\n",
    "for i in d:\n",
    "    details_list = i.text\n",
    "    details.append(details_list)\n",
    "details"
   ]
  },
  {
   "cell_type": "code",
   "execution_count": 84,
   "id": "80e387bc",
   "metadata": {},
   "outputs": [
    {
     "name": "stdout",
     "output_type": "stream",
     "text": [
      "Industry: ['Health ', 'Health ', 'Health ', 'Railway Transport', 'Management of Public Facilities ', 'Research and Experimental Development', 'Manufacture of Raw Chemical Materials and Chemical Products', 'Manufacture of Raw Chemical Materials and Chemical Products', 'Manufacture of Raw Chemical Materials and Chemical Products', 'Manufacture of Raw Chemical Materials and Chemical Products']\n",
      "Region: ['ChinaHainan', 'ChinaHainan', 'ChinaHainan', 'ChinaZhejiang', 'ChinaHeilongjiang', 'ChinaGuangdong', 'ChinaTianjin', 'ChinaTianjin', 'ChinaTianjin', 'ChinaTianjin']\n",
      "Source: ['Currency', 'Currency', 'Currency', 'Currency', 'Currency', 'Currency', 'Currency', 'Currency', 'Currency', 'Currency']\n"
     ]
    }
   ],
   "source": [
    "def split_list_items(details):\n",
    "    industry_list, region_list, source_list = [], [], []\n",
    "\n",
    "    for item in details:\n",
    "        parts = item.split('Region:')\n",
    "        industry = parts[0].split(':')[1]\n",
    "        region = parts[1].split('source:')[0]\n",
    "        source = parts[1].split('source:')[1]\n",
    "\n",
    "        industry_list.append(industry)\n",
    "        region_list.append(region)\n",
    "        source_list.append(source)\n",
    "\n",
    "    return industry_list, region_list, source_list\n",
    "\n",
    "industry, region, source = split_list_items(details)\n",
    "print(\"Industry:\", industry)\n",
    "print(\"Region:\", region)\n",
    "print(\"Source:\", source)\n",
    "        "
   ]
  },
  {
   "cell_type": "code",
   "execution_count": 88,
   "id": "7d160585",
   "metadata": {},
   "outputs": [
    {
     "data": {
      "text/html": [
       "<div>\n",
       "<style scoped>\n",
       "    .dataframe tbody tr th:only-of-type {\n",
       "        vertical-align: middle;\n",
       "    }\n",
       "\n",
       "    .dataframe tbody tr th {\n",
       "        vertical-align: top;\n",
       "    }\n",
       "\n",
       "    .dataframe thead th {\n",
       "        text-align: right;\n",
       "    }\n",
       "</style>\n",
       "<table border=\"1\" class=\"dataframe\">\n",
       "  <thead>\n",
       "    <tr style=\"text-align: right;\">\n",
       "      <th></th>\n",
       "      <th>Tender_Headings</th>\n",
       "      <th>Industry</th>\n",
       "      <th>Region</th>\n",
       "      <th>Source</th>\n",
       "    </tr>\n",
       "  </thead>\n",
       "  <tbody>\n",
       "    <tr>\n",
       "      <th>0</th>\n",
       "      <td>Procurement of 1200-204GB2020070/03 Tenders in...</td>\n",
       "      <td>Health</td>\n",
       "      <td>ChinaHainan</td>\n",
       "      <td>Currency</td>\n",
       "    </tr>\n",
       "    <tr>\n",
       "      <th>1</th>\n",
       "      <td>Procurement of 1200-204GB2020070/02 Tenders in...</td>\n",
       "      <td>Health</td>\n",
       "      <td>ChinaHainan</td>\n",
       "      <td>Currency</td>\n",
       "    </tr>\n",
       "    <tr>\n",
       "      <th>2</th>\n",
       "      <td>Procurement of 1200-204GB2020070/01 Tenders in...</td>\n",
       "      <td>Health</td>\n",
       "      <td>ChinaHainan</td>\n",
       "      <td>Currency</td>\n",
       "    </tr>\n",
       "    <tr>\n",
       "      <th>3</th>\n",
       "      <td>Procurement of 0826-204201127002 Tenders invit...</td>\n",
       "      <td>Railway Transport</td>\n",
       "      <td>ChinaZhejiang</td>\n",
       "      <td>Currency</td>\n",
       "    </tr>\n",
       "    <tr>\n",
       "      <th>4</th>\n",
       "      <td>Procurement of 2379-204Y19240ZBP Three Tenders...</td>\n",
       "      <td>Management of Public Facilities</td>\n",
       "      <td>ChinaHeilongjiang</td>\n",
       "      <td>Currency</td>\n",
       "    </tr>\n",
       "    <tr>\n",
       "      <th>5</th>\n",
       "      <td>Procurement of 0809-2040GZI14033/03 Precise de...</td>\n",
       "      <td>Research and Experimental Development</td>\n",
       "      <td>ChinaGuangdong</td>\n",
       "      <td>Currency</td>\n",
       "    </tr>\n",
       "    <tr>\n",
       "      <th>6</th>\n",
       "      <td>Procurement of 1700-1940JJBH1145/04 Integrated...</td>\n",
       "      <td>Manufacture of Raw Chemical Materials and Chem...</td>\n",
       "      <td>ChinaTianjin</td>\n",
       "      <td>Currency</td>\n",
       "    </tr>\n",
       "    <tr>\n",
       "      <th>7</th>\n",
       "      <td>Procurement of 1700-1940JJBH1145/03 Integrated...</td>\n",
       "      <td>Manufacture of Raw Chemical Materials and Chem...</td>\n",
       "      <td>ChinaTianjin</td>\n",
       "      <td>Currency</td>\n",
       "    </tr>\n",
       "    <tr>\n",
       "      <th>8</th>\n",
       "      <td>Procurement of 1700-1940JJBH1145/02 Integrated...</td>\n",
       "      <td>Manufacture of Raw Chemical Materials and Chem...</td>\n",
       "      <td>ChinaTianjin</td>\n",
       "      <td>Currency</td>\n",
       "    </tr>\n",
       "    <tr>\n",
       "      <th>9</th>\n",
       "      <td>Procurement of 1700-1940JJBH1145/01 Integrated...</td>\n",
       "      <td>Manufacture of Raw Chemical Materials and Chem...</td>\n",
       "      <td>ChinaTianjin</td>\n",
       "      <td>Currency</td>\n",
       "    </tr>\n",
       "  </tbody>\n",
       "</table>\n",
       "</div>"
      ],
      "text/plain": [
       "                                     Tender_Headings  \\\n",
       "0  Procurement of 1200-204GB2020070/03 Tenders in...   \n",
       "1  Procurement of 1200-204GB2020070/02 Tenders in...   \n",
       "2  Procurement of 1200-204GB2020070/01 Tenders in...   \n",
       "3  Procurement of 0826-204201127002 Tenders invit...   \n",
       "4  Procurement of 2379-204Y19240ZBP Three Tenders...   \n",
       "5  Procurement of 0809-2040GZI14033/03 Precise de...   \n",
       "6  Procurement of 1700-1940JJBH1145/04 Integrated...   \n",
       "7  Procurement of 1700-1940JJBH1145/03 Integrated...   \n",
       "8  Procurement of 1700-1940JJBH1145/02 Integrated...   \n",
       "9  Procurement of 1700-1940JJBH1145/01 Integrated...   \n",
       "\n",
       "                                            Industry             Region  \\\n",
       "0                                            Health         ChinaHainan   \n",
       "1                                            Health         ChinaHainan   \n",
       "2                                            Health         ChinaHainan   \n",
       "3                                  Railway Transport      ChinaZhejiang   \n",
       "4                   Management of Public Facilities   ChinaHeilongjiang   \n",
       "5              Research and Experimental Development     ChinaGuangdong   \n",
       "6  Manufacture of Raw Chemical Materials and Chem...       ChinaTianjin   \n",
       "7  Manufacture of Raw Chemical Materials and Chem...       ChinaTianjin   \n",
       "8  Manufacture of Raw Chemical Materials and Chem...       ChinaTianjin   \n",
       "9  Manufacture of Raw Chemical Materials and Chem...       ChinaTianjin   \n",
       "\n",
       "     Source  \n",
       "0  Currency  \n",
       "1  Currency  \n",
       "2  Currency  \n",
       "3  Currency  \n",
       "4  Currency  \n",
       "5  Currency  \n",
       "6  Currency  \n",
       "7  Currency  \n",
       "8  Currency  \n",
       "9  Currency  "
      ]
     },
     "execution_count": 88,
     "metadata": {},
     "output_type": "execute_result"
    }
   ],
   "source": [
    "df_details = pd.DataFrame({\n",
    "    'Tender_Headings' : tenders_headings,\n",
    "    'Industry' : industry,\n",
    "    'Region' : region,\n",
    "    'Source' : source\n",
    "})\n",
    "\n",
    "df_details"
   ]
  },
  {
   "cell_type": "code",
   "execution_count": 93,
   "id": "4c1cbe3d",
   "metadata": {},
   "outputs": [],
   "source": [
    "df_details.to_csv('china_bidding.csv')"
   ]
  },
  {
   "cell_type": "code",
   "execution_count": 98,
   "id": "b50759de",
   "metadata": {},
   "outputs": [
    {
     "name": "stdout",
     "output_type": "stream",
     "text": [
      "                                     Tender_Headings  \\\n",
      "0  Procurement of 1200-204GB2020070/03 Tenders in...   \n",
      "1  Procurement of 1200-204GB2020070/02 Tenders in...   \n",
      "2  Procurement of 1200-204GB2020070/01 Tenders in...   \n",
      "3  Procurement of 0826-204201127002 Tenders invit...   \n",
      "4  Procurement of 2379-204Y19240ZBP Three Tenders...   \n",
      "5  Procurement of 0809-2040GZI14033/03 Precise de...   \n",
      "6  Procurement of 1700-1940JJBH1145/04 Integrated...   \n",
      "7  Procurement of 1700-1940JJBH1145/03 Integrated...   \n",
      "8  Procurement of 1700-1940JJBH1145/02 Integrated...   \n",
      "9  Procurement of 1700-1940JJBH1145/01 Integrated...   \n",
      "\n",
      "                                            Industry             Region  \\\n",
      "0                                            Health         ChinaHainan   \n",
      "1                                            Health         ChinaHainan   \n",
      "2                                            Health         ChinaHainan   \n",
      "3                                  Railway Transport      ChinaZhejiang   \n",
      "4                   Management of Public Facilities   ChinaHeilongjiang   \n",
      "5              Research and Experimental Development     ChinaGuangdong   \n",
      "6  Manufacture of Raw Chemical Materials and Chem...       ChinaTianjin   \n",
      "7  Manufacture of Raw Chemical Materials and Chem...       ChinaTianjin   \n",
      "8  Manufacture of Raw Chemical Materials and Chem...       ChinaTianjin   \n",
      "9  Manufacture of Raw Chemical Materials and Chem...       ChinaTianjin   \n",
      "\n",
      "     Source  \n",
      "0  Currency  \n",
      "1  Currency  \n",
      "2  Currency  \n",
      "3  Currency  \n",
      "4  Currency  \n",
      "5  Currency  \n",
      "6  Currency  \n",
      "7  Currency  \n",
      "8  Currency  \n",
      "9  Currency  \n"
     ]
    }
   ],
   "source": [
    "import pandas as pd\n",
    "from selenium import webdriver\n",
    "\n",
    "def scrape_tender_details(url):\n",
    "    service = webdriver.ChromeService(executable_path=r'C:\\Users\\anura\\Desktop\\Web Scrapping\\chromedriver-win64\\chromedriver.exe')\n",
    "    driver = webdriver.Chrome(service=service)\n",
    "\n",
    "    driver.get(url)\n",
    "\n",
    "    tenders_headings = []\n",
    "    head = driver.find_elements(by='xpath', value=\"//h1[@class='fl w645']\")\n",
    "    for i in head:\n",
    "        heading_text_1 = i.text\n",
    "        tenders_headings.append(heading_text_1)\n",
    "\n",
    "    details = []\n",
    "    d = driver.find_elements(by='xpath', value='//div[@class=\"property mt10\"]')\n",
    "    for i in d:\n",
    "        details_list = i.text\n",
    "        details.append(details_list)\n",
    "\n",
    "    def split_list_items(details):\n",
    "        industry_list, region_list, source_list = [], [], []\n",
    "        for item in details:\n",
    "            parts = item.split('Region:')\n",
    "            industry = parts[0].split(':')[1]\n",
    "            region = parts[1].split('source:')[0]\n",
    "            source = parts[1].split('source:')[1]\n",
    "\n",
    "            industry_list.append(industry)\n",
    "            region_list.append(region)\n",
    "            source_list.append(source)\n",
    "\n",
    "        return industry_list, region_list, source_list\n",
    "\n",
    "    industry, region, source = split_list_items(details)\n",
    "\n",
    "    df_details = pd.DataFrame({\n",
    "        'Tender_Headings': tenders_headings,\n",
    "        'Industry': industry,\n",
    "        'Region': region,\n",
    "        'Source': source\n",
    "    })\n",
    "\n",
    "    driver.quit()\n",
    "\n",
    "    return df_details\n",
    "\n",
    "url = 'http://en.chinabidding.mofcom.gov.cn/channel/EnSearchList.shtml?provinceCodeShow=&capitalSourceCodeShow=&keyword=tenders&tenders=1&industry='\n",
    "result_df = scrape_tender_details(url)\n",
    "\n",
    "print(result_df)\n"
   ]
  },
  {
   "cell_type": "code",
   "execution_count": 99,
   "id": "14971a53",
   "metadata": {},
   "outputs": [],
   "source": [
    "result_df.to_csv('index.csv')"
   ]
  },
  {
   "cell_type": "code",
   "execution_count": null,
   "id": "d7ed4979",
   "metadata": {},
   "outputs": [],
   "source": []
  },
  {
   "cell_type": "code",
   "execution_count": null,
   "id": "27523f38",
   "metadata": {},
   "outputs": [],
   "source": []
  },
  {
   "cell_type": "code",
   "execution_count": null,
   "id": "c8ff849e",
   "metadata": {},
   "outputs": [],
   "source": []
  },
  {
   "cell_type": "code",
   "execution_count": null,
   "id": "e4721c36",
   "metadata": {},
   "outputs": [],
   "source": []
  },
  {
   "cell_type": "code",
   "execution_count": null,
   "id": "e57d38bb",
   "metadata": {},
   "outputs": [],
   "source": []
  },
  {
   "cell_type": "code",
   "execution_count": null,
   "id": "a68c290d",
   "metadata": {},
   "outputs": [],
   "source": []
  },
  {
   "cell_type": "code",
   "execution_count": null,
   "id": "e48d2fb8",
   "metadata": {},
   "outputs": [],
   "source": [
    "# import requests\n",
    "# from bs4 import BeautifulSoup\n",
    "# import csv\n",
    "\n",
    "# class ChinaBiddingTendersScraper:\n",
    "#     def __init__(self, output_file):\n",
    "#         self.base_url = \"https://ieg.worldbankgroup.org/data\"\n",
    "#         self.output_file = output_file\n",
    "\n",
    "#     def scrape_tenders(self):\n",
    "#         # Send a request to the website and get the content\n",
    "#         response = requests.get(self.base_url)\n",
    "#         if response.status_code != 200:\n",
    "#             print(\"Failed to retrieve data from the website.\")\n",
    "#             return\n",
    "\n",
    "#         # Parse the HTML content using BeautifulSoup\n",
    "#         soup = BeautifulSoup(response.content, 'html.parser')\n",
    "\n",
    "#         # Extract tender details (dummy data for demonstration purposes)\n",
    "#         tenders_data = [\n",
    "#             {\"Tender Name\": \"Sample Tender 1\", \"Location\": \"China\", \"Closing Date\": \"2023-10-31\"},\n",
    "#             {\"Tender Name\": \"Sample Tender 2\", \"Location\": \"Beijing\", \"Closing Date\": \"2023-11-15\"},\n",
    "#             # Add more tender data as needed\n",
    "#         ]\n",
    "\n",
    "#         # Write the tender data to a CSV file\n",
    "#         self.write_to_csv(tenders_data)\n",
    "\n",
    "#     def write_to_csv(self, data):\n",
    "#         # Define CSV header based on the keys in the data dictionary\n",
    "#         header = data[0].keys()\n",
    "\n",
    "#         # Write the data to the CSV file\n",
    "#         with open(self.output_file, 'w', newline='') as csvfile:\n",
    "#             writer = csv.DictWriter(csvfile, fieldnames=header)\n",
    "#             writer.writeheader()\n",
    "#             for row in data:\n",
    "#                 writer.writerow(row)\n",
    "\n",
    "# if __name__ == \"__main__\":\n",
    "#     # Output file for the CSV data\n",
    "#     output_file = \"china_bidding_tenders.csv\"\n",
    "\n",
    "#     # Create an instance of the scraper and scrape tenders\n",
    "#     scraper = ChinaBiddingTendersScraper(output_file)\n",
    "#     scraper.scrape_tenders()\n"
   ]
  },
  {
   "cell_type": "code",
   "execution_count": null,
   "id": "0feea2b5",
   "metadata": {},
   "outputs": [],
   "source": []
  },
  {
   "cell_type": "code",
   "execution_count": null,
   "id": "7476ceb2",
   "metadata": {},
   "outputs": [],
   "source": []
  },
  {
   "cell_type": "code",
   "execution_count": null,
   "id": "74f28625",
   "metadata": {},
   "outputs": [],
   "source": []
  },
  {
   "cell_type": "code",
   "execution_count": null,
   "id": "17a74608",
   "metadata": {},
   "outputs": [],
   "source": []
  },
  {
   "cell_type": "code",
   "execution_count": null,
   "id": "0bcdb75a",
   "metadata": {},
   "outputs": [],
   "source": []
  },
  {
   "cell_type": "code",
   "execution_count": null,
   "id": "a09f2161",
   "metadata": {},
   "outputs": [],
   "source": []
  },
  {
   "cell_type": "code",
   "execution_count": null,
   "id": "752e5fe8",
   "metadata": {},
   "outputs": [],
   "source": []
  },
  {
   "cell_type": "code",
   "execution_count": null,
   "id": "7e83ecbf",
   "metadata": {},
   "outputs": [],
   "source": []
  },
  {
   "cell_type": "code",
   "execution_count": null,
   "id": "dd4b2354",
   "metadata": {},
   "outputs": [],
   "source": []
  },
  {
   "cell_type": "code",
   "execution_count": null,
   "id": "50a55d34",
   "metadata": {},
   "outputs": [],
   "source": []
  },
  {
   "cell_type": "code",
   "execution_count": null,
   "id": "0ca517e1",
   "metadata": {},
   "outputs": [],
   "source": []
  },
  {
   "cell_type": "code",
   "execution_count": null,
   "id": "31ba50c2",
   "metadata": {},
   "outputs": [],
   "source": []
  },
  {
   "cell_type": "code",
   "execution_count": null,
   "id": "7823c7ae",
   "metadata": {},
   "outputs": [],
   "source": []
  },
  {
   "cell_type": "code",
   "execution_count": null,
   "id": "799b52fe",
   "metadata": {},
   "outputs": [],
   "source": []
  },
  {
   "cell_type": "code",
   "execution_count": null,
   "id": "d90d2535",
   "metadata": {},
   "outputs": [],
   "source": []
  },
  {
   "cell_type": "code",
   "execution_count": null,
   "id": "8a923103",
   "metadata": {},
   "outputs": [],
   "source": []
  },
  {
   "cell_type": "code",
   "execution_count": null,
   "id": "84309a40",
   "metadata": {},
   "outputs": [],
   "source": []
  },
  {
   "cell_type": "code",
   "execution_count": null,
   "id": "969c539a",
   "metadata": {},
   "outputs": [],
   "source": []
  },
  {
   "cell_type": "code",
   "execution_count": null,
   "id": "f7c33598",
   "metadata": {},
   "outputs": [],
   "source": []
  },
  {
   "cell_type": "code",
   "execution_count": null,
   "id": "fb176464",
   "metadata": {},
   "outputs": [],
   "source": []
  },
  {
   "cell_type": "code",
   "execution_count": null,
   "id": "b196a427",
   "metadata": {},
   "outputs": [],
   "source": []
  }
 ],
 "metadata": {
  "kernelspec": {
   "display_name": "Python 3 (ipykernel)",
   "language": "python",
   "name": "python3"
  },
  "language_info": {
   "codemirror_mode": {
    "name": "ipython",
    "version": 3
   },
   "file_extension": ".py",
   "mimetype": "text/x-python",
   "name": "python",
   "nbconvert_exporter": "python",
   "pygments_lexer": "ipython3",
   "version": "3.8.10"
  }
 },
 "nbformat": 4,
 "nbformat_minor": 5
}
