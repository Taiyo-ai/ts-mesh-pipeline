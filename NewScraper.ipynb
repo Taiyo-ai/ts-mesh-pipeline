{
  "nbformat": 4,
  "nbformat_minor": 0,
  "metadata": {
    "colab": {
      "name": "NewScraper.ipynb",
      "provenance": [],
      "include_colab_link": true
    },
    "kernelspec": {
      "name": "python3",
      "display_name": "Python 3"
    },
    "language_info": {
      "name": "python"
    }
  },
  "cells": [
    {
      "cell_type": "markdown",
      "metadata": {
        "id": "view-in-github",
        "colab_type": "text"
      },
      "source": [
        "<a href=\"https://colab.research.google.com/github/gskgautam/ts-mesh-pipeline/blob/main/NewScraper.ipynb\" target=\"_parent\"><img src=\"https://colab.research.google.com/assets/colab-badge.svg\" alt=\"Open In Colab\"/></a>"
      ]
    },
    {
      "cell_type": "code",
      "source": [
        "import pandas as pd\n",
        "#Scraper class for web scraping\n",
        "class Scraper:\n",
        "    def __init__(self):\n",
        "        self.url='https://www.bls.gov/news.release/eci.nr0.htm'\n",
        "\n",
        "    #method to extract data\n",
        "    def extract(self):\n",
        "        df=pd.read_html(self.url)\n",
        "        return(df)\n",
        "\n",
        "\n",
        "eout=Scraper()\n",
        "result=eout.extract()\n",
        "print(result[0].head(15))\n",
        "result[0].to_csv('result.csv')"
      ],
      "metadata": {
        "colab": {
          "base_uri": "https://localhost:8080/"
        },
        "id": "SMEgVONw-7Xb",
        "outputId": "70a66cd0-7be6-4f22-9fd2-e15225e0355d"
      },
      "execution_count": null,
      "outputs": [
        {
          "output_type": "stream",
          "name": "stdout",
          "text": [
            "                      Category 3-month,seasonally adjusted           \\\n",
            "                      Category                    Dec.2021 Mar.2022   \n",
            "0          Civilian workers(1)                         NaN      NaN   \n",
            "1              Compensation(2)                         1.0      1.4   \n",
            "2           Wages and salaries                         1.0      1.2   \n",
            "3                     Benefits                         0.9      1.8   \n",
            "4                          NaN                         NaN      NaN   \n",
            "5             Private industry                         NaN      NaN   \n",
            "6              Compensation(2)                         1.1      1.4   \n",
            "7           Wages and salaries                         1.1      1.3   \n",
            "8                     Benefits                         0.9      1.9   \n",
            "9              Health benefits                           -        -   \n",
            "10                         NaN                         NaN      NaN   \n",
            "11  State and local government                         NaN      NaN   \n",
            "12             Compensation(2)                         0.7      1.1   \n",
            "13          Wages and salaries                         0.7      0.9   \n",
            "14                    Benefits                         0.9      1.5   \n",
            "\n",
            "   12-month, not seasonally adjusted, current dollar                    \\\n",
            "                                            Mar.2021 Dec.2021 Mar.2022   \n",
            "0                                                NaN      NaN      NaN   \n",
            "1                                                2.6      4.0      4.5   \n",
            "2                                                2.7      4.5      4.7   \n",
            "3                                                2.5      2.8      4.1   \n",
            "4                                                NaN      NaN      NaN   \n",
            "5                                                NaN      NaN      NaN   \n",
            "6                                                2.8      4.4      4.8   \n",
            "7                                                3.0      5.0      5.0   \n",
            "8                                                2.5      2.9      4.1   \n",
            "9                                                2.1      0.4      2.2   \n",
            "10                                               NaN      NaN      NaN   \n",
            "11                                               NaN      NaN      NaN   \n",
            "12                                               2.0      2.6      3.2   \n",
            "13                                               1.6      2.7      3.1   \n",
            "14                                               2.6      2.5      3.5   \n",
            "\n",
            "   12-month, not seasonally adjusted, constant dollar                    \n",
            "                                             Mar.2021 Dec.2021 Mar.2022  \n",
            "0                                                 NaN      NaN      NaN  \n",
            "1                                                 0.1     -2.9     -3.7  \n",
            "2                                                 0.1     -2.3     -3.6  \n",
            "3                                                -0.1     -3.9     -4.2  \n",
            "4                                                 NaN      NaN      NaN  \n",
            "5                                                 NaN      NaN      NaN  \n",
            "6                                                 0.2     -2.5     -3.5  \n",
            "7                                                 0.4     -1.9     -3.3  \n",
            "8                                                -0.2     -3.8     -4.0  \n",
            "9                                                   -        -        -  \n",
            "10                                                NaN      NaN      NaN  \n",
            "11                                                NaN      NaN      NaN  \n",
            "12                                               -0.6     -4.2     -4.9  \n",
            "13                                               -1.0     -4.1     -5.1  \n",
            "14                                                0.1     -4.3     -4.7  \n"
          ]
        }
      ]
    },
    {
      "cell_type": "code",
      "source": [
        "import numpy as np\n",
        "import pandas as pd\n",
        "import matplotlib.pyplot as plt\n",
        "# Reading data from file\n",
        "dataset=pd.read_csv('/content/result.csv')\n",
        "\n",
        "# print(dataset[['Category', '3-month,seasonally adjusted']].head(4))\n",
        "\n",
        "dataset.head()\n"
      ],
      "metadata": {
        "colab": {
          "base_uri": "https://localhost:8080/",
          "height": 392
        },
        "id": "Y-Qou_xE_C3e",
        "outputId": "b7d88174-6607-4d70-fc19-32ca6d065d15"
      },
      "execution_count": null,
      "outputs": [
        {
          "output_type": "execute_result",
          "data": {
            "text/plain": [
              "   Unnamed: 0             Category 3-month,seasonally adjusted  \\\n",
              "0         NaN             Category                    Dec.2021   \n",
              "1         0.0  Civilian workers(1)                         NaN   \n",
              "2         1.0      Compensation(2)                         1.0   \n",
              "3         2.0   Wages and salaries                         1.0   \n",
              "4         3.0             Benefits                         0.9   \n",
              "\n",
              "  3-month,seasonally adjusted.1  \\\n",
              "0                      Mar.2022   \n",
              "1                           NaN   \n",
              "2                           1.4   \n",
              "3                           1.2   \n",
              "4                           1.8   \n",
              "\n",
              "  12-month, not seasonally adjusted, current dollar  \\\n",
              "0                                          Mar.2021   \n",
              "1                                               NaN   \n",
              "2                                               2.6   \n",
              "3                                               2.7   \n",
              "4                                               2.5   \n",
              "\n",
              "  12-month, not seasonally adjusted, current dollar.1  \\\n",
              "0                                           Dec.2021    \n",
              "1                                                NaN    \n",
              "2                                                4.0    \n",
              "3                                                4.5    \n",
              "4                                                2.8    \n",
              "\n",
              "  12-month, not seasonally adjusted, current dollar.2  \\\n",
              "0                                           Mar.2022    \n",
              "1                                                NaN    \n",
              "2                                                4.5    \n",
              "3                                                4.7    \n",
              "4                                                4.1    \n",
              "\n",
              "  12-month, not seasonally adjusted, constant dollar  \\\n",
              "0                                           Mar.2021   \n",
              "1                                                NaN   \n",
              "2                                                0.1   \n",
              "3                                                0.1   \n",
              "4                                               -0.1   \n",
              "\n",
              "  12-month, not seasonally adjusted, constant dollar.1  \\\n",
              "0                                           Dec.2021     \n",
              "1                                                NaN     \n",
              "2                                               -2.9     \n",
              "3                                               -2.3     \n",
              "4                                               -3.9     \n",
              "\n",
              "  12-month, not seasonally adjusted, constant dollar.2  \n",
              "0                                           Mar.2022    \n",
              "1                                                NaN    \n",
              "2                                               -3.7    \n",
              "3                                               -3.6    \n",
              "4                                               -4.2    "
            ],
            "text/html": [
              "\n",
              "  <div id=\"df-12524a9b-9d01-416c-9ebd-b0d8af2bd92a\">\n",
              "    <div class=\"colab-df-container\">\n",
              "      <div>\n",
              "<style scoped>\n",
              "    .dataframe tbody tr th:only-of-type {\n",
              "        vertical-align: middle;\n",
              "    }\n",
              "\n",
              "    .dataframe tbody tr th {\n",
              "        vertical-align: top;\n",
              "    }\n",
              "\n",
              "    .dataframe thead th {\n",
              "        text-align: right;\n",
              "    }\n",
              "</style>\n",
              "<table border=\"1\" class=\"dataframe\">\n",
              "  <thead>\n",
              "    <tr style=\"text-align: right;\">\n",
              "      <th></th>\n",
              "      <th>Unnamed: 0</th>\n",
              "      <th>Category</th>\n",
              "      <th>3-month,seasonally adjusted</th>\n",
              "      <th>3-month,seasonally adjusted.1</th>\n",
              "      <th>12-month, not seasonally adjusted, current dollar</th>\n",
              "      <th>12-month, not seasonally adjusted, current dollar.1</th>\n",
              "      <th>12-month, not seasonally adjusted, current dollar.2</th>\n",
              "      <th>12-month, not seasonally adjusted, constant dollar</th>\n",
              "      <th>12-month, not seasonally adjusted, constant dollar.1</th>\n",
              "      <th>12-month, not seasonally adjusted, constant dollar.2</th>\n",
              "    </tr>\n",
              "  </thead>\n",
              "  <tbody>\n",
              "    <tr>\n",
              "      <th>0</th>\n",
              "      <td>NaN</td>\n",
              "      <td>Category</td>\n",
              "      <td>Dec.2021</td>\n",
              "      <td>Mar.2022</td>\n",
              "      <td>Mar.2021</td>\n",
              "      <td>Dec.2021</td>\n",
              "      <td>Mar.2022</td>\n",
              "      <td>Mar.2021</td>\n",
              "      <td>Dec.2021</td>\n",
              "      <td>Mar.2022</td>\n",
              "    </tr>\n",
              "    <tr>\n",
              "      <th>1</th>\n",
              "      <td>0.0</td>\n",
              "      <td>Civilian workers(1)</td>\n",
              "      <td>NaN</td>\n",
              "      <td>NaN</td>\n",
              "      <td>NaN</td>\n",
              "      <td>NaN</td>\n",
              "      <td>NaN</td>\n",
              "      <td>NaN</td>\n",
              "      <td>NaN</td>\n",
              "      <td>NaN</td>\n",
              "    </tr>\n",
              "    <tr>\n",
              "      <th>2</th>\n",
              "      <td>1.0</td>\n",
              "      <td>Compensation(2)</td>\n",
              "      <td>1.0</td>\n",
              "      <td>1.4</td>\n",
              "      <td>2.6</td>\n",
              "      <td>4.0</td>\n",
              "      <td>4.5</td>\n",
              "      <td>0.1</td>\n",
              "      <td>-2.9</td>\n",
              "      <td>-3.7</td>\n",
              "    </tr>\n",
              "    <tr>\n",
              "      <th>3</th>\n",
              "      <td>2.0</td>\n",
              "      <td>Wages and salaries</td>\n",
              "      <td>1.0</td>\n",
              "      <td>1.2</td>\n",
              "      <td>2.7</td>\n",
              "      <td>4.5</td>\n",
              "      <td>4.7</td>\n",
              "      <td>0.1</td>\n",
              "      <td>-2.3</td>\n",
              "      <td>-3.6</td>\n",
              "    </tr>\n",
              "    <tr>\n",
              "      <th>4</th>\n",
              "      <td>3.0</td>\n",
              "      <td>Benefits</td>\n",
              "      <td>0.9</td>\n",
              "      <td>1.8</td>\n",
              "      <td>2.5</td>\n",
              "      <td>2.8</td>\n",
              "      <td>4.1</td>\n",
              "      <td>-0.1</td>\n",
              "      <td>-3.9</td>\n",
              "      <td>-4.2</td>\n",
              "    </tr>\n",
              "  </tbody>\n",
              "</table>\n",
              "</div>\n",
              "      <button class=\"colab-df-convert\" onclick=\"convertToInteractive('df-12524a9b-9d01-416c-9ebd-b0d8af2bd92a')\"\n",
              "              title=\"Convert this dataframe to an interactive table.\"\n",
              "              style=\"display:none;\">\n",
              "        \n",
              "  <svg xmlns=\"http://www.w3.org/2000/svg\" height=\"24px\"viewBox=\"0 0 24 24\"\n",
              "       width=\"24px\">\n",
              "    <path d=\"M0 0h24v24H0V0z\" fill=\"none\"/>\n",
              "    <path d=\"M18.56 5.44l.94 2.06.94-2.06 2.06-.94-2.06-.94-.94-2.06-.94 2.06-2.06.94zm-11 1L8.5 8.5l.94-2.06 2.06-.94-2.06-.94L8.5 2.5l-.94 2.06-2.06.94zm10 10l.94 2.06.94-2.06 2.06-.94-2.06-.94-.94-2.06-.94 2.06-2.06.94z\"/><path d=\"M17.41 7.96l-1.37-1.37c-.4-.4-.92-.59-1.43-.59-.52 0-1.04.2-1.43.59L10.3 9.45l-7.72 7.72c-.78.78-.78 2.05 0 2.83L4 21.41c.39.39.9.59 1.41.59.51 0 1.02-.2 1.41-.59l7.78-7.78 2.81-2.81c.8-.78.8-2.07 0-2.86zM5.41 20L4 18.59l7.72-7.72 1.47 1.35L5.41 20z\"/>\n",
              "  </svg>\n",
              "      </button>\n",
              "      \n",
              "  <style>\n",
              "    .colab-df-container {\n",
              "      display:flex;\n",
              "      flex-wrap:wrap;\n",
              "      gap: 12px;\n",
              "    }\n",
              "\n",
              "    .colab-df-convert {\n",
              "      background-color: #E8F0FE;\n",
              "      border: none;\n",
              "      border-radius: 50%;\n",
              "      cursor: pointer;\n",
              "      display: none;\n",
              "      fill: #1967D2;\n",
              "      height: 32px;\n",
              "      padding: 0 0 0 0;\n",
              "      width: 32px;\n",
              "    }\n",
              "\n",
              "    .colab-df-convert:hover {\n",
              "      background-color: #E2EBFA;\n",
              "      box-shadow: 0px 1px 2px rgba(60, 64, 67, 0.3), 0px 1px 3px 1px rgba(60, 64, 67, 0.15);\n",
              "      fill: #174EA6;\n",
              "    }\n",
              "\n",
              "    [theme=dark] .colab-df-convert {\n",
              "      background-color: #3B4455;\n",
              "      fill: #D2E3FC;\n",
              "    }\n",
              "\n",
              "    [theme=dark] .colab-df-convert:hover {\n",
              "      background-color: #434B5C;\n",
              "      box-shadow: 0px 1px 3px 1px rgba(0, 0, 0, 0.15);\n",
              "      filter: drop-shadow(0px 1px 2px rgba(0, 0, 0, 0.3));\n",
              "      fill: #FFFFFF;\n",
              "    }\n",
              "  </style>\n",
              "\n",
              "      <script>\n",
              "        const buttonEl =\n",
              "          document.querySelector('#df-12524a9b-9d01-416c-9ebd-b0d8af2bd92a button.colab-df-convert');\n",
              "        buttonEl.style.display =\n",
              "          google.colab.kernel.accessAllowed ? 'block' : 'none';\n",
              "\n",
              "        async function convertToInteractive(key) {\n",
              "          const element = document.querySelector('#df-12524a9b-9d01-416c-9ebd-b0d8af2bd92a');\n",
              "          const dataTable =\n",
              "            await google.colab.kernel.invokeFunction('convertToInteractive',\n",
              "                                                     [key], {});\n",
              "          if (!dataTable) return;\n",
              "\n",
              "          const docLinkHtml = 'Like what you see? Visit the ' +\n",
              "            '<a target=\"_blank\" href=https://colab.research.google.com/notebooks/data_table.ipynb>data table notebook</a>'\n",
              "            + ' to learn more about interactive tables.';\n",
              "          element.innerHTML = '';\n",
              "          dataTable['output_type'] = 'display_data';\n",
              "          await google.colab.output.renderOutput(dataTable, element);\n",
              "          const docLink = document.createElement('div');\n",
              "          docLink.innerHTML = docLinkHtml;\n",
              "          element.appendChild(docLink);\n",
              "        }\n",
              "      </script>\n",
              "    </div>\n",
              "  </div>\n",
              "  "
            ]
          },
          "metadata": {},
          "execution_count": 2
        }
      ]
    },
    {
      "cell_type": "code",
      "source": [
        "dataset=pd.read_csv('/content/result.csv')\n",
        "\n",
        "# Selected desired set of data for visualization\n",
        "dataset=dataset.iloc[2:5]\n",
        "print(dataset[['Category','3-month,seasonally adjusted']])"
      ],
      "metadata": {
        "colab": {
          "base_uri": "https://localhost:8080/"
        },
        "id": "2MyNd0yYckqM",
        "outputId": "ff345577-d3b9-4287-ef01-92045038809a"
      },
      "execution_count": null,
      "outputs": [
        {
          "output_type": "stream",
          "name": "stdout",
          "text": [
            "             Category 3-month,seasonally adjusted\n",
            "2     Compensation(2)                         1.0\n",
            "3  Wages and salaries                         1.0\n",
            "4            Benefits                         0.9\n"
          ]
        }
      ]
    },
    {
      "cell_type": "code",
      "source": [
        "import pandas as pd\n",
        "import matplotlib.pyplot as plt\n",
        "\n",
        "dataset=pd.read_csv('/content/result.csv')\n",
        "\n",
        "# Selecting the data fields\n",
        "dataset=dataset[['Category','3-month,seasonally adjusted']]\n",
        "dataset=dataset.astype(str)\n",
        "\n",
        "# Setting the labels\n",
        "x=['Compensation','Wages and salaries','Benefits']\n",
        "\n",
        "# Preparing the data in desired format for plotting\n",
        "temp_list=[]\n",
        "\n",
        "for i in dataset['3-month,seasonally adjusted']:\n",
        "  temp_list.append(i)\n",
        "\n",
        "y=[]\n",
        "for i in temp_list[2:5]:\n",
        "  y.append(float(i))\n",
        "\n",
        "# Plotting the graph\n",
        "plt.bar(x,y) \n",
        "plt.title(\"Bar Chart 3-month,seasonally adjusted\")\n",
        "  \n",
        "# Setting the X and Y labels\n",
        "plt.xlabel('Civilian workers')\n",
        "plt.ylabel('Dec 2021')\n",
        "  \n",
        "# Adding the legends\n",
        "plt.show()"
      ],
      "metadata": {
        "colab": {
          "base_uri": "https://localhost:8080/",
          "height": 295
        },
        "id": "tBQFVKi3fKtQ",
        "outputId": "e28c934f-2959-4b03-e7a9-2e6e4da54400"
      },
      "execution_count": null,
      "outputs": [
        {
          "output_type": "display_data",
          "data": {
            "text/plain": [
              "<Figure size 432x288 with 1 Axes>"
            ],
            "image/png": "[encoded data removed]"
          },
          "metadata": {
            "needs_background": "light"
          }
        }
      ]
    },
    {
      "cell_type": "code",
      "source": [
        "dataset=pd.read_csv('/content/result.csv')\n",
        "\n",
        "# Selected desired set of data for visualization\n",
        "dataset=dataset.iloc[2:5]\n",
        "print(dataset[['Category','3-month,seasonally adjusted.1']])"
      ],
      "metadata": {
        "colab": {
          "base_uri": "https://localhost:8080/"
        },
        "id": "vNwq-mtyrGua",
        "outputId": "08d0fb9c-38b6-404c-bc8a-c7099877fba7"
      },
      "execution_count": null,
      "outputs": [
        {
          "output_type": "stream",
          "name": "stdout",
          "text": [
            "             Category 3-month,seasonally adjusted.1\n",
            "2     Compensation(2)                           1.4\n",
            "3  Wages and salaries                           1.2\n",
            "4            Benefits                           1.8\n"
          ]
        }
      ]
    },
    {
      "cell_type": "code",
      "source": [
        "import pandas as pd\n",
        "import matplotlib.pyplot as plt\n",
        "\n",
        "dataset=pd.read_csv('/content/result.csv')\n",
        "\n",
        "\n",
        "# Selecting the data fields\n",
        "dataset=dataset[['Category','3-month,seasonally adjusted.1']]\n",
        "dataset=dataset.astype(str)\n",
        "\n",
        "# Setting the labels\n",
        "x=['Compensation','Wages and salaries','Benefits']\n",
        "\n",
        "# Preparing the data in desired format for plotting\n",
        "temp_list=[]\n",
        "\n",
        "for i in dataset['3-month,seasonally adjusted.1']:\n",
        "  temp_list.append(i)\n",
        "\n",
        "y=[]\n",
        "for i in temp_list[2:5]:\n",
        "  y.append(float(i))\n",
        "\n",
        "# Plotting the graph\n",
        "plt.bar(x,y) \n",
        "plt.title(\"Bar Chart 3-month,seasonally adjusted\")\n",
        "  \n",
        "# Setting the X and Y labels\n",
        "plt.xlabel('Civilian workers')\n",
        "plt.ylabel('Mar 2022')\n",
        "  \n",
        "# Adding the legends\n",
        "plt.show()"
      ],
      "metadata": {
        "colab": {
          "base_uri": "https://localhost:8080/",
          "height": 295
        },
        "id": "vF3XCXzHoRrA",
        "outputId": "85a8a30b-a7ca-4326-b396-79355bf2079b"
      },
      "execution_count": null,
      "outputs": [
        {
          "output_type": "display_data",
          "data": {
            "text/plain": [
              "<Figure size 432x288 with 1 Axes>"
            ],
            "image/png": "[encoded data removed]"
          },
          "metadata": {
            "needs_background": "light"
          }
        }
      ]
    }
  ]
}