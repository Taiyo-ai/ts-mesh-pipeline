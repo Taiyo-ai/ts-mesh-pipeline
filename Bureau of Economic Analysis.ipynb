{
 "cells": [
  {
   "cell_type": "code",
   "execution_count": 1,
   "id": "6ef41658",
   "metadata": {},
   "outputs": [],
   "source": [
    "import pandas as pd\n",
    "import numpy as np\n",
    "import matplotlib.pyplot as plt\n",
    "%matplotlib inline\n",
    "from urllib.request import urlopen\n",
    "from bs4 import BeautifulSoup\n",
    "import re\n",
    "import seaborn as sns"
   ]
  },
  {
   "cell_type": "code",
   "execution_count": 2,
   "id": "6887880c",
   "metadata": {},
   "outputs": [],
   "source": [
    "#Importing Url\n",
    "url = \"https://www.bea.gov/news/2022/personal-income-and-outlays-october-2022\"    #open link\n",
    "html = urlopen(url)"
   ]
  },
  {
   "cell_type": "code",
   "execution_count": 3,
   "id": "aa196555",
   "metadata": {},
   "outputs": [],
   "source": [
    "soup = BeautifulSoup(html)"
   ]
  },
  {
   "cell_type": "code",
   "execution_count": 4,
   "id": "6b735e4f",
   "metadata": {},
   "outputs": [
    {
     "name": "stdout",
     "output_type": "stream",
     "text": [
      "<title>Personal Income and Outlays, October 2022 | U.S. Bureau of Economic Analysis (BEA)</title>\n",
      "Personal Income and Outlays, October 2022 | U.S. Bureau of Economic Analysis (BEA)\n"
     ]
    }
   ],
   "source": [
    "title = soup.title\n",
    "print(title)\n",
    "print(title.text)"
   ]
  },
  {
   "cell_type": "code",
   "execution_count": 5,
   "id": "72b1df90",
   "metadata": {},
   "outputs": [
    {
     "name": "stdout",
     "output_type": "stream",
     "text": [
      "#main-content\n",
      "/\n",
      "/index.php/data\n",
      "/index.php/data/gdp\n",
      "/index.php/data/by-place-us\n",
      "/index.php/data/economic-accounts\n",
      "/index.php/tools\n",
      "http://www.bea.gov/itable/\n",
      "https://apps.bea.gov/API/signup/\n",
      "https://apps.bea.gov/international/factsheet/\n",
      "https://apps.bea.gov/regional/bearfacts/\n",
      "https://apps.bea.gov/industry/factsheet/\n",
      "https://apps.bea.gov/iTable/iTable.cfm?reqid=99&step=1#reqid=99&step=1&isuri=1\n",
      "https://apps.bea.gov/regional/rims/rimsii/\n",
      "https://apps.bea.gov/efile\n",
      "/index.php/news\n",
      "/index.php/news/glance\n",
      "/index.php/news/current-releases\n",
      "/index.php/news/schedule\n",
      "/index.php/news/blog\n",
      "https://apps.bea.gov/scb/\n",
      "/index.php/news/archive?field_related_product_target_id=All&created_1=All&title=\n",
      "/index.php/news/for-journalists\n",
      "/index.php/research\n",
      "/index.php/research/offices-of-research\n",
      "/index.php/research/meet-the-researchers\n",
      "/index.php/research/papers\n",
      "/index.php/research/special-sworn-researcher-program\n",
      "/index.php/research/special-sworn-researcher-program/papers\n",
      "/index.php/research/fellowship-program\n",
      "/index.php/resources\n",
      "/index.php/resources/learning-center\n",
      "/index.php/resources/methodologies\n",
      "/index.php/resources/multimedia\n",
      "/index.php/resources/article-collections\n",
      "/index.php/congressional-users\n",
      "/index.php/resources/for-developers\n",
      "/index.php/resources/learning-center/bea-in-the-classroom\n",
      "/index.php/about\n",
      "/index.php/about/who-we-are\n",
      "/index.php/about/leadership\n",
      "/index.php/about/advisory-committees\n",
      "/index.php/about/budget-and-performance\n",
      "/index.php/about/policies-and-information\n",
      "https://www.bea.gov/about/working-at-bea\n",
      "/index.php/help\n",
      "/index.php/help/contact-us\n",
      "/index.php/form/ask-an-expert\n",
      "/index.php/help/information-for-survey-respondents\n",
      "/index.php/help/faq\n",
      "/index.php/help/glossary\n",
      "/index.php/help/guidelines-for-citing-bea\n",
      "/\n",
      "/news\n",
      "/data/income-saving/personal-income\n",
      "#home\n",
      "#menu1\n",
      "#menu2\n",
      "#menu3\n",
      "https://www.bea.gov/help/faq/1471\n",
      "https://apps.bea.gov/iTable/iTable.cfm?reqid=19&step=3&isuri=1&select_all_years=0&nipa_table_list=2014&series=m&first_year=2020&last_year=2022&scale=-99&categories=underlying&thetable=\n",
      "https://apps.bea.gov/iTable/iTable.cfm?reqid=19&step=3&isuri=1&select_all_years=0&nipa_table_list=2013&series=m&first_year=2020&last_year=2022&scale=-99&categories=underlying&thetable=\n",
      "https://apps.bea.gov/iTable/iTable.cfm?reqid=19&step=3&isuri=1&select_all_years=0&nipa_table_list=2015&series=m&first_year=2020&last_year=2022&scale=-99&categories=underlying&thetable=\n",
      "/sites/default/files/2022-12/pi1022.pdf\n",
      "/sites/default/files/2022-12/pi1022.xlsx\n",
      "/sites/default/files/2022-12/pi1022_fax.pdf\n",
      "/sites/default/files/2022-12/pi1022_hist.pdf\n",
      "/sites/default/files/2022-12/effects-of-selected-federal-pandemic-response-programs-on-personal-income-october-2022.pdf\n",
      "/sites/default/files/2022-12/effects-of-selected-federal-pandemic-response-programs-on-personal-income-october-2022.xlsx\n",
      "tel:%28301%29278-9083\n",
      "mailto:piniwd@bea.gov\n",
      "tel:%28301%29278-9086\n",
      "mailto:pce@bea.gov\n",
      "tel:%28301%29278-9663\n",
      "mailto:pce@bea.gov\n",
      "tel:301-278-9003\n",
      "mailto:Connie.OConnell@bea.gov\n",
      "https://www.bea.gov\n",
      "https://www.bea.gov/recovery\n",
      "https://www.bea.gov/news/blog\n",
      "/_subscribe/\n",
      "http://www.twitter.com/BEA_News\n",
      "/itable/\n",
      "/API/signup/index.cfm\n",
      "/scb/index.htm\n",
      "/news/schedule\n",
      "/national/pdf/all-chapters.pdf\n",
      "https://www.bea.gov/resources/methodologies/nipa-handbook/pdf/glossary.pdf\n",
      "/help/faq/121\n",
      "/help/faq/463\n",
      "https://www.bea.gov/help/faq/122\n",
      "https://www.bea.gov/resources/methodologies/nipa-handbook/pdf/chapter-04.pdf\n",
      "http://get.adobe.com/reader/\n",
      "//www.bea.gov/contact-us\n",
      "//www.bea.gov/about/working-at-bea\n",
      "//www.bea.gov/help/faq\n",
      "//www.bea.gov/about/policies-and-information\n",
      "/privacy\n",
      "//www.bea.gov/statement-commitment-scientific-integrity-principal-statistical-agencies\n",
      "//www.bea.gov/about/policies-and-information/data-dissemination\n",
      "//www.bea.gov/open-data\n",
      "https://www.usa.gov/\n",
      "https://business.usa.gov\n",
      "http://www.osec.doc.gov/ocr/nofear/nofear.htm\n",
      "http://osec.doc.gov/opog/FOIA/default.html\n",
      "https://www.commerce.gov/\n",
      "https://apps.bea.gov/status/index.cfm\n",
      "//www.bea.gov/news/blog\n",
      "https://www.instagram.com/usbeagov/\n",
      "https://twitter.com/bea_news\n",
      "https://www.facebook.com/usbeagov\n",
      "https://www.youtube.com/channel/UCCP9QD1x_z__duUivA6Yb5w\n",
      "https://apps.bea.gov/rss/rss.xml\n",
      "/_subscribe/\n"
     ]
    }
   ],
   "source": [
    "links = soup.find_all('a', href=True)\n",
    "for link in links:\n",
    "    print(link['href'])"
   ]
  },
  {
   "cell_type": "code",
   "execution_count": 6,
   "id": "d1a7a821",
   "metadata": {},
   "outputs": [
    {
     "name": "stdout",
     "output_type": "stream",
     "text": [
      "[['October 2023', 'November 30, 2023'], ['November 2023', 'December 22, 2023']]\n"
     ]
    }
   ],
   "source": [
    "data = []\n",
    "allrows = soup.find_all(\"tr\")\n",
    "for row in allrows:\n",
    "    row_list = row.find_all(\"td\")\n",
    "    dataRow = []\n",
    "    for cell in row_list:\n",
    "        dataRow.append(cell.text)\n",
    "    data.append(dataRow)\n",
    "data = data[1:]\n",
    "print(data[-2:])"
   ]
  },
  {
   "cell_type": "code",
   "execution_count": 7,
   "id": "be028f6b",
   "metadata": {},
   "outputs": [
    {
     "name": "stdout",
     "output_type": "stream",
     "text": [
      "[[], [], ['Personal income:', '\\xa0'], ['\\xa0\\xa0\\xa0\\xa0\\xa0Current dollars', '0.5', '0.5', '0.3', '0.4', '0.7'], ['Disposable personal income:', '\\xa0'], ['\\xa0\\xa0\\xa0\\xa0\\xa0Current dollars', '0.6', '0.4', '0.3', '0.3', '0.7'], ['\\xa0\\xa0\\xa0\\xa0\\xa0Chained (2012) dollars', '-0.4\\xa0', '0.5', '0.1', '0.0', '0.4'], ['Personal consumption expenditures (PCE):', '\\xa0'], ['\\xa0\\xa0\\xa0\\xa0\\xa0Current dollars', '1.2', '-0.2\\xa0', '0.7', '0.6', '0.8'], ['\\xa0\\xa0\\xa0\\xa0\\xa0Chained (2012) dollars', '0.2', '-0.1\\xa0', '0.4', '0.3', '0.5'], ['Price indexes:', '\\xa0'], ['\\xa0\\xa0\\xa0\\xa0\\xa0PCE', '1.0', '-0.1\\xa0', '0.3', '0.3', '0.3'], ['\\xa0\\xa0\\xa0\\xa0\\xa0PCE, excluding food and energy', '0.6', '0.1', '0.5', '0.5', '0.2'], ['Price indexes:', 'Percent change from month one year ago'], ['\\xa0\\xa0\\xa0\\xa0\\xa0PCE', '7.0', '6.4', '6.2', '6.3', '6.0'], ['\\xa0\\xa0\\xa0\\xa0\\xa0PCE, excluding food and energy', '5.0', '4.7', '4.9', '5.2', '5.0'], [], [], [], [], ['Personal income:', '\\xa0'], ['\\xa0\\xa0\\xa0\\xa0\\xa0Current dollars', '84.0', '74.4', '0.4', '0.3', '78.9', '88.4', '0.4', '0.4'], ['Disposable personal income:', '\\xa0'], ['\\xa0\\xa0\\xa0\\xa0\\xa0Current dollars', '84.4', '61.3', '0.5', '0.3', '71.3', '59.3', '0.4', '0.3'], ['\\xa0\\xa0\\xa0\\xa0\\xa0Chained (2012) dollars', '28.7', '10.0', '0.2', '0.1', '7.2', '-3.6\\xa0', '0.0', '0.0'], ['Personal consumption expenditures:', '\\xa0'], ['\\xa0\\xa0\\xa0\\xa0\\xa0Current dollars', '96.8', '113.2\\xa0', '0.6', '0.7', '113.0', '110.1', '0.6', '0.6'], ['\\xa0\\xa0\\xa0\\xa0\\xa0Chained (2012) dollars', '41.4', '54.4', '0.3', '0.4', '44.0', '40.3', '0.3', '0.3'], [], [], ['December 2022', 'January 27, 2023'], ['January 2023', 'February 24, 2023'], ['February 2023', 'March 31, 2023'], ['March 2023', 'April 28, 2023'], ['April 2023', 'May 26, 2023'], ['May 2023', 'June 30, 2023'], ['June 2023', 'July 28, 2023'], ['July 2023', 'August 31, 2023'], ['August 2023', 'September 29, 2023'], ['September 2023', 'October 27, 2023'], ['October 2023', 'November 30, 2023'], ['November 2023', 'December 22, 2023']]\n"
     ]
    }
   ],
   "source": [
    "df = pd.DataFrame(data)\n",
    "print(data)"
   ]
  },
  {
   "cell_type": "code",
   "execution_count": 8,
   "id": "c1922dce",
   "metadata": {},
   "outputs": [
    {
     "name": "stdout",
     "output_type": "stream",
     "text": [
      "                             0     1     2     3     4     5     6     7     8\n",
      "0                         None  None  None  None  None  None  None  None  None\n",
      "1                         None  None  None  None  None  None  None  None  None\n",
      "2             Personal income:        None  None  None  None  None  None  None\n",
      "3              Current dollars   0.5   0.5   0.3   0.4   0.7  None  None  None\n",
      "4  Disposable personal income:        None  None  None  None  None  None  None\n",
      "                 0                   1     2     3     4     5     6     7  \\\n",
      "37       July 2023     August 31, 2023  None  None  None  None  None  None   \n",
      "38     August 2023  September 29, 2023  None  None  None  None  None  None   \n",
      "39  September 2023    October 27, 2023  None  None  None  None  None  None   \n",
      "40    October 2023   November 30, 2023  None  None  None  None  None  None   \n",
      "41   November 2023   December 22, 2023  None  None  None  None  None  None   \n",
      "\n",
      "       8  \n",
      "37  None  \n",
      "38  None  \n",
      "39  None  \n",
      "40  None  \n",
      "41  None  \n"
     ]
    }
   ],
   "source": [
    "df = pd.DataFrame(data)\n",
    "print(df.head())\n",
    "print(df.tail())"
   ]
  },
  {
   "cell_type": "code",
   "execution_count": 9,
   "id": "f378830c",
   "metadata": {},
   "outputs": [
    {
     "name": "stdout",
     "output_type": "stream",
     "text": [
      "['\\xa0', '2022', 'June', 'July', 'Aug.', 'Sept.', 'Oct.', 'Percent change from preceding month', '\\xa0', 'Change from preceding month', 'August\\xa0', 'September\\xa0', 'Previous', 'Revised', 'Previous', 'Revised', 'Previous', 'Revised', 'Previous', 'Revised', '(Billions of dollars)', '(Percent)', '(Billions of dollars)', '(Percent)', 'Personal Income and Outlays Release Dates for 2023', 'Estimate', 'Release Date']\n"
     ]
    }
   ],
   "source": [
    "header_list =[]\n",
    "col_headers = soup.find_all('th')\n",
    "for col in col_headers:\n",
    "    header_list.append(col.text)\n",
    "print(header_list)"
   ]
  },
  {
   "cell_type": "code",
   "execution_count": 11,
   "id": "0df4b388",
   "metadata": {},
   "outputs": [
    {
     "data": {
      "text/plain": [
       "(42, 9)"
      ]
     },
     "execution_count": 11,
     "metadata": {},
     "output_type": "execute_result"
    }
   ],
   "source": [
    "df.shape"
   ]
  },
  {
   "cell_type": "code",
   "execution_count": 12,
   "id": "8c478005",
   "metadata": {},
   "outputs": [
    {
     "data": {
      "text/plain": [
       "<bound method NDFrame.describe of                                            0  \\\n",
       "0                                       None   \n",
       "1                                       None   \n",
       "2                           Personal income:   \n",
       "3                            Current dollars   \n",
       "4                Disposable personal income:   \n",
       "5                            Current dollars   \n",
       "6                     Chained (2012) dollars   \n",
       "7   Personal consumption expenditures (PCE):   \n",
       "8                            Current dollars   \n",
       "9                     Chained (2012) dollars   \n",
       "10                            Price indexes:   \n",
       "11                                       PCE   \n",
       "12            PCE, excluding food and energy   \n",
       "13                            Price indexes:   \n",
       "14                                       PCE   \n",
       "15            PCE, excluding food and energy   \n",
       "16                                      None   \n",
       "17                                      None   \n",
       "18                                      None   \n",
       "19                                      None   \n",
       "20                          Personal income:   \n",
       "21                           Current dollars   \n",
       "22               Disposable personal income:   \n",
       "23                           Current dollars   \n",
       "24                    Chained (2012) dollars   \n",
       "25        Personal consumption expenditures:   \n",
       "26                           Current dollars   \n",
       "27                    Chained (2012) dollars   \n",
       "28                                      None   \n",
       "29                                      None   \n",
       "30                             December 2022   \n",
       "31                              January 2023   \n",
       "32                             February 2023   \n",
       "33                                March 2023   \n",
       "34                                April 2023   \n",
       "35                                  May 2023   \n",
       "36                                 June 2023   \n",
       "37                                 July 2023   \n",
       "38                               August 2023   \n",
       "39                            September 2023   \n",
       "40                              October 2023   \n",
       "41                             November 2023   \n",
       "\n",
       "                                         1       2     3     4      5      6  \\\n",
       "0                                     None    None  None  None   None   None   \n",
       "1                                     None    None  None  None   None   None   \n",
       "2                                             None  None  None   None   None   \n",
       "3                                      0.5     0.5   0.3   0.4    0.7   None   \n",
       "4                                             None  None  None   None   None   \n",
       "5                                      0.6     0.4   0.3   0.3    0.7   None   \n",
       "6                                    -0.4      0.5   0.1   0.0    0.4   None   \n",
       "7                                             None  None  None   None   None   \n",
       "8                                      1.2   -0.2    0.7   0.6    0.8   None   \n",
       "9                                      0.2   -0.1    0.4   0.3    0.5   None   \n",
       "10                                            None  None  None   None   None   \n",
       "11                                     1.0   -0.1    0.3   0.3    0.3   None   \n",
       "12                                     0.6     0.1   0.5   0.5    0.2   None   \n",
       "13  Percent change from month one year ago    None  None  None   None   None   \n",
       "14                                     7.0     6.4   6.2   6.3    6.0   None   \n",
       "15                                     5.0     4.7   4.9   5.2    5.0   None   \n",
       "16                                    None    None  None  None   None   None   \n",
       "17                                    None    None  None  None   None   None   \n",
       "18                                    None    None  None  None   None   None   \n",
       "19                                    None    None  None  None   None   None   \n",
       "20                                            None  None  None   None   None   \n",
       "21                                    84.0    74.4   0.4   0.3   78.9   88.4   \n",
       "22                                            None  None  None   None   None   \n",
       "23                                    84.4    61.3   0.5   0.3   71.3   59.3   \n",
       "24                                    28.7    10.0   0.2   0.1    7.2  -3.6    \n",
       "25                                            None  None  None   None   None   \n",
       "26                                    96.8  113.2    0.6   0.7  113.0  110.1   \n",
       "27                                    41.4    54.4   0.3   0.4   44.0   40.3   \n",
       "28                                    None    None  None  None   None   None   \n",
       "29                                    None    None  None  None   None   None   \n",
       "30                        January 27, 2023    None  None  None   None   None   \n",
       "31                       February 24, 2023    None  None  None   None   None   \n",
       "32                          March 31, 2023    None  None  None   None   None   \n",
       "33                          April 28, 2023    None  None  None   None   None   \n",
       "34                            May 26, 2023    None  None  None   None   None   \n",
       "35                           June 30, 2023    None  None  None   None   None   \n",
       "36                           July 28, 2023    None  None  None   None   None   \n",
       "37                         August 31, 2023    None  None  None   None   None   \n",
       "38                      September 29, 2023    None  None  None   None   None   \n",
       "39                        October 27, 2023    None  None  None   None   None   \n",
       "40                       November 30, 2023    None  None  None   None   None   \n",
       "41                       December 22, 2023    None  None  None   None   None   \n",
       "\n",
       "       7     8  \n",
       "0   None  None  \n",
       "1   None  None  \n",
       "2   None  None  \n",
       "3   None  None  \n",
       "4   None  None  \n",
       "5   None  None  \n",
       "6   None  None  \n",
       "7   None  None  \n",
       "8   None  None  \n",
       "9   None  None  \n",
       "10  None  None  \n",
       "11  None  None  \n",
       "12  None  None  \n",
       "13  None  None  \n",
       "14  None  None  \n",
       "15  None  None  \n",
       "16  None  None  \n",
       "17  None  None  \n",
       "18  None  None  \n",
       "19  None  None  \n",
       "20  None  None  \n",
       "21   0.4   0.4  \n",
       "22  None  None  \n",
       "23   0.4   0.3  \n",
       "24   0.0   0.0  \n",
       "25  None  None  \n",
       "26   0.6   0.6  \n",
       "27   0.3   0.3  \n",
       "28  None  None  \n",
       "29  None  None  \n",
       "30  None  None  \n",
       "31  None  None  \n",
       "32  None  None  \n",
       "33  None  None  \n",
       "34  None  None  \n",
       "35  None  None  \n",
       "36  None  None  \n",
       "37  None  None  \n",
       "38  None  None  \n",
       "39  None  None  \n",
       "40  None  None  \n",
       "41  None  None  >"
      ]
     },
     "execution_count": 12,
     "metadata": {},
     "output_type": "execute_result"
    }
   ],
   "source": [
    "df.describe"
   ]
  },
  {
   "cell_type": "code",
   "execution_count": 13,
   "id": "8a5267b6",
   "metadata": {},
   "outputs": [
    {
     "data": {
      "text/plain": [
       "RangeIndex(start=0, stop=9, step=1)"
      ]
     },
     "execution_count": 13,
     "metadata": {},
     "output_type": "execute_result"
    }
   ],
   "source": [
    "df.columns"
   ]
  },
  {
   "cell_type": "code",
   "execution_count": 14,
   "id": "6c36eab1",
   "metadata": {},
   "outputs": [],
   "source": [
    "#saving output\n",
    "df.to_csv(r'C:/Users/user/Dropbox/PC/Desktop/Machine Learning/Taiyo/web scrapping/BEA.csv', index = False, header = True)"
   ]
  },
  {
   "cell_type": "code",
   "execution_count": 15,
   "id": "ee1b14f8",
   "metadata": {},
   "outputs": [],
   "source": [
    "df = pd.read_csv(\"BEA.csv\")"
   ]
  },
  {
   "cell_type": "code",
   "execution_count": 16,
   "id": "aebf966e",
   "metadata": {},
   "outputs": [
    {
     "data": {
      "text/html": [
       "<div>\n",
       "<style scoped>\n",
       "    .dataframe tbody tr th:only-of-type {\n",
       "        vertical-align: middle;\n",
       "    }\n",
       "\n",
       "    .dataframe tbody tr th {\n",
       "        vertical-align: top;\n",
       "    }\n",
       "\n",
       "    .dataframe thead th {\n",
       "        text-align: right;\n",
       "    }\n",
       "</style>\n",
       "<table border=\"1\" class=\"dataframe\">\n",
       "  <thead>\n",
       "    <tr style=\"text-align: right;\">\n",
       "      <th></th>\n",
       "      <th>0</th>\n",
       "      <th>1</th>\n",
       "      <th>2</th>\n",
       "      <th>3</th>\n",
       "      <th>4</th>\n",
       "      <th>5</th>\n",
       "      <th>6</th>\n",
       "      <th>7</th>\n",
       "      <th>8</th>\n",
       "    </tr>\n",
       "  </thead>\n",
       "  <tbody>\n",
       "    <tr>\n",
       "      <th>0</th>\n",
       "      <td>NaN</td>\n",
       "      <td>NaN</td>\n",
       "      <td>NaN</td>\n",
       "      <td>NaN</td>\n",
       "      <td>NaN</td>\n",
       "      <td>NaN</td>\n",
       "      <td>NaN</td>\n",
       "      <td>NaN</td>\n",
       "      <td>NaN</td>\n",
       "    </tr>\n",
       "    <tr>\n",
       "      <th>1</th>\n",
       "      <td>NaN</td>\n",
       "      <td>NaN</td>\n",
       "      <td>NaN</td>\n",
       "      <td>NaN</td>\n",
       "      <td>NaN</td>\n",
       "      <td>NaN</td>\n",
       "      <td>NaN</td>\n",
       "      <td>NaN</td>\n",
       "      <td>NaN</td>\n",
       "    </tr>\n",
       "    <tr>\n",
       "      <th>2</th>\n",
       "      <td>Personal income:</td>\n",
       "      <td></td>\n",
       "      <td>NaN</td>\n",
       "      <td>NaN</td>\n",
       "      <td>NaN</td>\n",
       "      <td>NaN</td>\n",
       "      <td>NaN</td>\n",
       "      <td>NaN</td>\n",
       "      <td>NaN</td>\n",
       "    </tr>\n",
       "    <tr>\n",
       "      <th>3</th>\n",
       "      <td>Current dollars</td>\n",
       "      <td>0.5</td>\n",
       "      <td>0.5</td>\n",
       "      <td>0.3</td>\n",
       "      <td>0.4</td>\n",
       "      <td>0.7</td>\n",
       "      <td>NaN</td>\n",
       "      <td>NaN</td>\n",
       "      <td>NaN</td>\n",
       "    </tr>\n",
       "    <tr>\n",
       "      <th>4</th>\n",
       "      <td>Disposable personal income:</td>\n",
       "      <td></td>\n",
       "      <td>NaN</td>\n",
       "      <td>NaN</td>\n",
       "      <td>NaN</td>\n",
       "      <td>NaN</td>\n",
       "      <td>NaN</td>\n",
       "      <td>NaN</td>\n",
       "      <td>NaN</td>\n",
       "    </tr>\n",
       "  </tbody>\n",
       "</table>\n",
       "</div>"
      ],
      "text/plain": [
       "                             0    1    2    3    4    5    6   7   8\n",
       "0                          NaN  NaN  NaN  NaN  NaN  NaN  NaN NaN NaN\n",
       "1                          NaN  NaN  NaN  NaN  NaN  NaN  NaN NaN NaN\n",
       "2             Personal income:       NaN  NaN  NaN  NaN  NaN NaN NaN\n",
       "3              Current dollars  0.5  0.5  0.3  0.4  0.7  NaN NaN NaN\n",
       "4  Disposable personal income:       NaN  NaN  NaN  NaN  NaN NaN NaN"
      ]
     },
     "execution_count": 16,
     "metadata": {},
     "output_type": "execute_result"
    }
   ],
   "source": [
    "df.head()"
   ]
  },
  {
   "cell_type": "code",
   "execution_count": null,
   "id": "43ad8a49",
   "metadata": {},
   "outputs": [],
   "source": []
  }
 ],
 "metadata": {
  "kernelspec": {
   "display_name": "Python 3 (ipykernel)",
   "language": "python",
   "name": "python3"
  },
  "language_info": {
   "codemirror_mode": {
    "name": "ipython",
    "version": 3
   },
   "file_extension": ".py",
   "mimetype": "text/x-python",
   "name": "python",
   "nbconvert_exporter": "python",
   "pygments_lexer": "ipython3",
   "version": "3.9.12"
  }
 },
 "nbformat": 4,
 "nbformat_minor": 5
}
